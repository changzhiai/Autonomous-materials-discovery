{
 "cells": [
  {
   "cell_type": "markdown",
   "metadata": {},
   "source": [
    "# Exercise: Bayesian optimization - LEGO - preparation"
   ]
  },
  {
   "cell_type": "markdown",
   "metadata": {},
   "source": [
    "Hi there! As you are getting better at python and are building yourselves a toolbox, these notebooks will become thinner, provide less code, and require more of you. You will get far by using your old notebooks and copy/paste cells from those into this.\n",
    "\n",
    "I this and the following notebook you will combine what you learning in the first LEGO exercise with what you learned in the Dragonfly simulation exercise to try and mix a target color using the Dragonfly optimizer.\n",
    "\n",
    "As the Bayesian optimizer can use all the data you have already produced to improve convergence speed, we should collect it.\n",
    "This is what happens in this notebook.\n",
    "\n",
    "To aid the optimizer, we will \"mix\" the pure colors, should that those points are also in the dataset, you will be feeding it."
   ]
  },
  {
   "cell_type": "code",
   "execution_count": null,
   "metadata": {},
   "outputs": [],
   "source": [
    "try:\n",
    "    from scipy.optimize import minimize\n",
    "    import numpy as np\n",
    "    from IPython import display\n",
    "    import matplotlib.pyplot as plt\n",
    "    from plot_pie_charts import make_piechart_plot\n",
    "    from ailego_master import AiLEGO_master\n",
    "except:\n",
    "    print('Have you completed the other notebooks?')"
   ]
  },
  {
   "cell_type": "code",
   "execution_count": null,
   "metadata": {},
   "outputs": [],
   "source": [
    "mixer = AiLEGO_master(colors=['red_u', 'green_u', 'blue_t', 'yellow_u'])"
   ]
  },
  {
   "cell_type": "code",
   "execution_count": null,
   "metadata": {},
   "outputs": [],
   "source": [
    "data_points = [[1., 0., 0., 0.],\n",
    "               [0., 1., 0., 0.],\n",
    "               [0., 0., 1., 0.],\n",
    "               [0., 0., 0., 1.]]\n",
    "\n",
    "for data_point in data_points:\n",
    "    print(mixer.run_cuvette(data_point))\n",
    "    \n",
    "mixer.set_first_empty_cuvette(1)\n",
    "input('Have cuvettes other than #5 emptied. When ready to continue, press Enter')"
   ]
  },
  {
   "cell_type": "markdown",
   "metadata": {},
   "source": [
    "# Preparing savefile for Dragonfly"
   ]
  },
  {
   "cell_type": "markdown",
   "metadata": {},
   "source": [
    "If you do not have the robot data yourself, you can get it by using `ssh robot@IP` from the gbar, where `IP` is your robot IP address. You will find the data in the file `datafile.csv` in the `/47332_exercises/data` folder. You can open the file with `nano datafile.csv` and copy (`Crtl` + `c)`/paste (most) of the content to somewhere easily available to you. The lines are too long for the editor, but don't worry about missing the last part. Press `Crtl` + `x` to close the file. \n",
    "\n",
    "If you want to copy the file to your own data folder (47332/data), you can use the line \n",
    "\n",
    "`scp robot@IP:/home/robot/47332_exercises/data/datafile.csv  ~/47332/data`\n",
    "\n",
    "from the terminal after you have logged on to gbar. Remember to input your robot IP."
   ]
  },
  {
   "cell_type": "markdown",
   "metadata": {},
   "source": [
    "Remember that we are looking at different colors, so the \"score\" values you previously calculated are not useful when trying to optimize to a new color. The rgb code on the other hand is. Using input volumes and their resulting rg) code, which you can get from your data, and the rgb code of the target color, you can calculate new scores for input volumes. \n",
    "\n",
    "You can get the rgb of the target by placing it in position 5 and running the cell below."
   ]
  },
  {
   "cell_type": "code",
   "execution_count": null,
   "metadata": {},
   "outputs": [],
   "source": [
    "# Do not run if you already know target rgb code\n",
    "target = mixer.read_color(5)\n",
    "print(target)"
   ]
  },
  {
   "cell_type": "markdown",
   "metadata": {},
   "source": [
    "The below cells show how you could make the savefile once you have the raw data and the target color code. A lot of c/p and hard coding is fine for getting the data into the first cell below this since we don't have a lot of data yet and really want to get going. If you want to, you can yourselves also figure out how to load the data from file. We will do it properly in a later exercise."
   ]
  },
  {
   "cell_type": "code",
   "execution_count": null,
   "metadata": {},
   "outputs": [],
   "source": [
    "example_data = [[[0.25, 0.25, 0.25, 0.25], (45, 45, 45)],\n",
    "                [[0.35, 0.15, 0.25, 0.25], (55, 35, 45)]]\n",
    "\n",
    "example_target = (70, 40, 40)\n"
   ]
  },
  {
   "cell_type": "code",
   "execution_count": null,
   "metadata": {},
   "outputs": [],
   "source": [
    "# This is how my \"score\" function looks (modified version is used for NN).\n",
    "# You made one yourself in the very first exercise.\n",
    "def root_sum_sqr_err(input1, input2):\n",
    "    \"\"\"Root of the sum of squared difference between input colors\"\"\"\n",
    "    dif = np.asarray(input1)- np.asarray(input2)\n",
    "    return (sum(dif**2)**(0.5))"
   ]
  },
  {
   "cell_type": "code",
   "execution_count": null,
   "metadata": {},
   "outputs": [],
   "source": [
    "data_to_save = []\n",
    "for data_point in example_data:\n",
    "    score = root_sum_sqr_err(data_point[1], example_target)\n",
    "    dts_point = data_point[0].copy()\n",
    "    dts_point.append(score)\n",
    "    data_to_save.append(dts_point)\n",
    "    \n",
    "print(data_to_save)"
   ]
  },
  {
   "cell_type": "code",
   "execution_count": null,
   "metadata": {},
   "outputs": [],
   "source": [
    "constraints = [[0., 1.]] * 4\n",
    "print(constraints)"
   ]
  },
  {
   "cell_type": "code",
   "execution_count": null,
   "metadata": {},
   "outputs": [],
   "source": [
    "from pathlib import Path\n",
    "from make_savefile import make_dragonfly_save_file\n",
    "\n",
    "home = str(Path.home())\n",
    "\n",
    "filename = 'robot_data'\n",
    "file_path = home + '/47332/data/'\n",
    "full_path = file_path + filename\n",
    "\n",
    "make_dragonfly_save_file(data_to_save, full_path, constraints)"
   ]
  },
  {
   "cell_type": "markdown",
   "metadata": {},
   "source": [
    "You now have a savefile called `robot_data` ready for use in Dragonfly in part 2 of this exercise.\n",
    "\n",
    "Have a break and continue with the \"part2\" notebook once you are ready."
   ]
  }
 ],
 "metadata": {
  "kernelspec": {
   "display_name": "Python 3",
   "language": "python",
   "name": "python3"
  },
  "language_info": {
   "codemirror_mode": {
    "name": "ipython",
    "version": 3
   },
   "file_extension": ".py",
   "mimetype": "text/x-python",
   "name": "python",
   "nbconvert_exporter": "python",
   "pygments_lexer": "ipython3",
   "version": "3.6.9"
  }
 },
 "nbformat": 4,
 "nbformat_minor": 4
}

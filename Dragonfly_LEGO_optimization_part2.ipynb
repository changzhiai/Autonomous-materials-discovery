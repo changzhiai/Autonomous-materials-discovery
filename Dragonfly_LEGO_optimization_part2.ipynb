{
 "cells": [
  {
   "cell_type": "markdown",
   "metadata": {},
   "source": [
    "# Exercise: Bayesian optimization - LEGO - Part 2"
   ]
  },
  {
   "cell_type": "markdown",
   "metadata": {},
   "source": [
    "Task: Attempt to determine how to mix the target color located in cuvette 5 using the Dragonfly optimizer.\n",
    "\n",
    "You will have to do almost all the code yourselves in this notebook putting together pieces of code from your past exercises.\n",
    "\n",
    "Make sure you have made a savefile at the end of the prep exercise. If not, go back and do that now. Also make sure that you are actually using this savefile in your Dragonfly optimizer. If in doubt about how this works, go back to part 1 and the in silico Dragonfly exercises."
   ]
  },
  {
   "cell_type": "code",
   "execution_count": null,
   "metadata": {},
   "outputs": [],
   "source": [
    "try:\n",
    "    from dragonfly import minimize_function\n",
    "    from argparse import Namespace\n",
    "    from scipy.optimize import minimize\n",
    "    import numpy as np\n",
    "    from IPython import display\n",
    "    import matplotlib.pyplot as plt\n",
    "    from plot_pie_charts import make_piechart_plot\n",
    "    from ailego_master import AiLEGO_master\n",
    "    from silico_color_mixer import SilicoColorMixer\n",
    "    from pathlib import Path\n",
    "    from make_savefile import make_dragonfly_save_file\n",
    "except:\n",
    "    print('Have you completed the other notebooks?')"
   ]
  },
  {
   "cell_type": "markdown",
   "metadata": {},
   "source": [
    "Hint: It might be a good idea to test your code with a `SilicoColorMixer` before trying to run the robot. Comment in and out the lines below to use the correct mixer."
   ]
  },
  {
   "cell_type": "code",
   "execution_count": null,
   "metadata": {},
   "outputs": [],
   "source": [
    "mixer = SilicoColorMixer(target=(246., 199., 30.))\n",
    "# mixer = AiLEGO_master(colors=['red_u', 'green_u', 'blue_t', 'yellow_u'])"
   ]
  },
  {
   "cell_type": "markdown",
   "metadata": {},
   "source": [
    "Use the cells below to prepare this notebook to run the optimization."
   ]
  },
  {
   "cell_type": "code",
   "execution_count": null,
   "metadata": {},
   "outputs": [],
   "source": [
    "# cell for you to use"
   ]
  },
  {
   "cell_type": "code",
   "execution_count": null,
   "metadata": {},
   "outputs": [],
   "source": [
    "# cell for you to use"
   ]
  },
  {
   "cell_type": "code",
   "execution_count": null,
   "metadata": {},
   "outputs": [],
   "source": [
    "# cell for you to use"
   ]
  },
  {
   "cell_type": "code",
   "execution_count": null,
   "metadata": {},
   "outputs": [],
   "source": [
    "# cell for you to use. Add more if needed"
   ]
  }
 ],
 "metadata": {
  "kernelspec": {
   "display_name": "Python 3",
   "language": "python",
   "name": "python3"
  },
  "language_info": {
   "codemirror_mode": {
    "name": "ipython",
    "version": 3
   },
   "file_extension": ".py",
   "mimetype": "text/x-python",
   "name": "python",
   "nbconvert_exporter": "python",
   "pygments_lexer": "ipython3",
   "version": "3.6.9"
  }
 },
 "nbformat": 4,
 "nbformat_minor": 4
}

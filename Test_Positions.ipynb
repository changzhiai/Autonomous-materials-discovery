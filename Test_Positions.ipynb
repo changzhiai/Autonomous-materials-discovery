{
 "cells": [
  {
   "cell_type": "markdown",
   "metadata": {},
   "source": [
    "# Test and adjust your positions\n",
    "\n",
    "This notebook will help you to adjust to positions given to the software with the actual positions of the different things on the workspace of the robot."
   ]
  },
  {
   "cell_type": "markdown",
   "metadata": {},
   "source": [
    "Load the software."
   ]
  },
  {
   "cell_type": "code",
   "execution_count": 5,
   "metadata": {},
   "outputs": [],
   "source": [
    "from ailego_master import AiLEGO_master"
   ]
  },
  {
   "cell_type": "markdown",
   "metadata": {},
   "source": [
    "Initiate an instance of the control software. It will prompt you for the name and password of your robot. Since the DNS server might not have assigned the robots probably, such that they are callable by their name, you might want to change to `local_ssh=True` and give the IP address instead of the name. The IP can be read on the robot display. We will load an instance that will not be able to run experiments but only make the robot speak."
   ]
  },
  {
   "cell_type": "code",
   "execution_count": 7,
   "metadata": {},
   "outputs": [
    {
     "name": "stdout",
     "output_type": "stream",
     "text": [
      "Input robot name10.16.163.139\n",
      "Robot password:········\n",
      "Verify that syringe is at the top positon and the plunger fully pressed. Then press ENTER\n",
      "Verify that color cartridges are filled and cuvettes empty (#5 can be filled). Then press ENTER\n"
     ]
    }
   ],
   "source": [
    "robot = AiLEGO_master(speak_only=False, local_ssh=True)"
   ]
  },
  {
   "cell_type": "code",
   "execution_count": null,
   "metadata": {},
   "outputs": [],
   "source": [
    "10.16.163.139"
   ]
  },
  {
   "cell_type": "code",
   "execution_count": null,
   "metadata": {},
   "outputs": [],
   "source": [
    "pos = {'1': 2.9,\n",
    "       '2': 2.9\n",
    "       '3': 2.9,\n",
    "       '4': 2.9,\n",
    "       '5': 2.9,\n",
    "       '6': 2.9,\n",
    "       '7': 2.9,\n",
    "       '8': 2.9,\n",
    "       '9': 2.9,\n",
    "       '10': 2.9,\n",
    "       'blue': 2.9,\n",
    "       'red': 0.95,\n",
    "       'green': 1.9,\n",
    "       'yellow': 2.9,\n",
    "       'rinse1': 0.0}\n",
    "\n",
    "robot.set_positions(pos)"
   ]
  },
  {
   "cell_type": "markdown",
   "metadata": {},
   "source": [
    "Specify the position of the different containers on the workspace relative to the distance from when the cross bar touches the touch sensor in number of engine rotations. The total workspace is approximately 10.5. The the below numbers will generally be a good starting point. "
   ]
  },
  {
   "cell_type": "code",
   "execution_count": 11,
   "metadata": {},
   "outputs": [],
   "source": [
    "pos = {'1': 2.9,\n",
    "       '2': 3.4,\n",
    "       '3': 3.9,\n",
    "       '4': 4.4,\n",
    "       '5': 4.9,\n",
    "       '6': 5.4,\n",
    "       '7': 5.9,\n",
    "       '8': 6.4,\n",
    "       '9': 6.9,\n",
    "       '10': 7.4,\n",
    "       'blue': 8.35,\n",
    "       'red': 0.95,\n",
    "       'green': 1.9,\n",
    "       'yellow': 9.3,\n",
    "       'rinse1': 0.0}\n",
    "\n",
    "robot.set_positions(pos)"
   ]
  },
  {
   "cell_type": "markdown",
   "metadata": {},
   "source": [
    "Test to see if the positions are good by running the cell below. At the end of the small program the color sensor should read cuvette 1 and cuvette 8."
   ]
  },
  {
   "cell_type": "code",
   "execution_count": 12,
   "metadata": {},
   "outputs": [],
   "source": [
    "robot.test_positions()"
   ]
  },
  {
   "cell_type": "markdown",
   "metadata": {},
   "source": [
    "If all the positions look good, you are done calibrating the positions of you robot."
   ]
  },
  {
   "cell_type": "code",
   "execution_count": null,
   "metadata": {},
   "outputs": [],
   "source": []
  }
 ],
 "metadata": {
  "kernelspec": {
   "display_name": "Python 3",
   "language": "python",
   "name": "python3"
  },
  "language_info": {
   "codemirror_mode": {
    "name": "ipython",
    "version": 3
   },
   "file_extension": ".py",
   "mimetype": "text/x-python",
   "name": "python",
   "nbconvert_exporter": "python",
   "pygments_lexer": "ipython3",
   "version": "3.6.13"
  }
 },
 "nbformat": 4,
 "nbformat_minor": 2
}

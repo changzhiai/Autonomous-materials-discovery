{
 "cells": [
  {
   "cell_type": "markdown",
   "metadata": {},
   "source": [
    "# Exercise: Color mixing and optimization with the LEGO bot"
   ]
  },
  {
   "cell_type": "markdown",
   "metadata": {},
   "source": [
    "This is the second full color mixing exercise in the course Autonomous materials discovery (47332).\n",
    "\n",
    "In this exercise you will explore the software used to control the LEGO bots. You will mix water colored with food coloring with the bots, visualize the output and run a simple optimization. \n",
    "\n",
    "This exercise builds heavily on the *in silico* exercise. Where you could complete that exercise individually, you have to work as a group for this exercise. Only one of you can run python scripts on the robot at a time. You should all try to run the robot at some point. If not today, then one of the other robot days. Communication, sharing of results, and screen sharing of the running code will be important. There might be some wait time during this exercise. You can enjoy the sight of the LEGO robot working and keep an eye on it to make sure it behaves as intended. You can also get started with or work more on your group report.  \n",
    "\n",
    "Should you fail to finish this exercise within the time frame, there will be a chance to catch up later on.\n"
   ]
  },
  {
   "cell_type": "markdown",
   "metadata": {},
   "source": [
    "# Exercise 1: Get familiar with robot control software"
   ]
  },
  {
   "cell_type": "markdown",
   "metadata": {},
   "source": [
    "You will start by looking at the python code used to control the robot. As already mentioned, the control class consists of two classes, one controlled by you and one working locally on the robot computer. They are called `AiLEGO_master` and `AiLEGO_robot`, respectively. Unless you really want to get your hands dirty, you will spend most of your time with the `AiLEGO_master` class. Start by loading it in."
   ]
  },
  {
   "cell_type": "code",
   "execution_count": 2,
   "metadata": {},
   "outputs": [],
   "source": [
    "from ailego_master import AiLEGO_master\n",
    "import matplotlib.pyplot as plt\n",
    "import numpy as np\n",
    "# AiLEGO_master?"
   ]
  },
  {
   "cell_type": "markdown",
   "metadata": {},
   "source": [
    "Take a look at the Docstring for it just like you did for the *in silico* model in exercise 1 (`Shift+Tab` or comment in the line with the questionmark at the end). When you know and understand what inputs it can take during initialization, lets try to look at the methods (like functions but in the class) available. A neat way to do this within the notebook is to type the module name followed by a period, `.`, and then pressing `Tab`. You should be able to see all the methods in the class. Note that the cell will give you an error if you try to run it.\n",
    "\n",
    "Just like with the module, you can read the Docstring for the individual methods by pressing `Shift+Tab`."
   ]
  },
  {
   "cell_type": "code",
   "execution_count": 4,
   "metadata": {},
   "outputs": [],
   "source": [
    "# AiLEGO_master.  # remove the # in front when looking at methods\n",
    "# AiLEGO_master.make_robot_talk"
   ]
  },
  {
   "cell_type": "markdown",
   "metadata": {},
   "source": [
    "You see the `make_robot_talk` method, that you have already used. Most of the methods you will rarely call directly. Instead they serve in the execution of other methods and during initialization. Methods that you *will* use are `run_cuvette`,  `set_first_empty_cuvette`, and `get_next_cuvette`. Use the cells below to type in the methods after the period, place cursor in that line, and use `Shift` + `Tab` to access method docstrings. See what they do, what input they take and what they return if anything. We cannot run the methods yet. We do not yet have an instance of the class, which is what `self` refers to."
   ]
  },
  {
   "cell_type": "code",
   "execution_count": null,
   "metadata": {},
   "outputs": [],
   "source": [
    "# AiLEGO_master. ...  # remove the # in front when looking at method Docstring\n",
    "# AiLEGO_master. ...  # remove the # in front when looking at method Docstring\n",
    "# AiLEGO_master. ...  # remove the # in front when looking at method Docstring"
   ]
  },
  {
   "cell_type": "markdown",
   "metadata": {},
   "source": [
    "Notice how `run_cuvette` is very similar to the `run_cuvette` method in `SilicoColorMixer`.\n",
    "\n",
    "Next, try to initialize an instance of the `AiLEGO_master` class. When you are initializing with `speak_only=False`, which is the default, the initialiation process is much longer. Part of it is just confirming that the robot is in its starting positions with the syringe up, the plunger down (as far as possible), color cartridges filled, and cuvettes empty. The robot will use the touch sensor on the right to determine the `x` position, i.e. the position of the wagon. It is likely, that the DNS is still not recognizing the robots when you do this exercise. You should the remember to specify `local_ss=True` during initialization of the robot instance. \n",
    "\n",
    "You should not be more than one person initializing at a time. If you do you are likely to experience error messages.\n",
    "\n",
    "Note that the color codes you obtain with the robot are not directly transferable to RGB codes in the *in silico* model or real life colors. You will thus see a different color than the real life one if you try to vizualize the RGB code.\n",
    "\n",
    "Initialize a mixer, set the positions and test them. You can give the instance an ID, if you so desire. It will make it easier to locate your data later on. Otherwise an ID will be generated based on the specific time you performed the initialization."
   ]
  },
  {
   "cell_type": "code",
   "execution_count": null,
   "metadata": {},
   "outputs": [],
   "source": [
    "lego_mixer = AiLEGO_master(colors=['red_u', 'green_u', 'blue_t', 'yellow_u'])\n",
    "# Remember to set positions as you did in the Test_Positions notebook\n",
    "# Test positions"
   ]
  },
  {
   "cell_type": "markdown",
   "metadata": {},
   "source": [
    "If all positions are of by a similar amount, you can easily apply a constant offset to the positions either by adding it directly in the position dict or by adding it is a parameter."
   ]
  },
  {
   "cell_type": "code",
   "execution_count": 5,
   "metadata": {},
   "outputs": [],
   "source": [
    "# lego_mixer.set_offset(float)"
   ]
  },
  {
   "cell_type": "markdown",
   "metadata": {},
   "source": [
    "You should also make sure that the color sensor reads cuvette 1 and cuvette 8 during the end of the program. If it does not align properly, you can adjust it by using the `set_color_offset` method. The default value is 1.0."
   ]
  },
  {
   "cell_type": "code",
   "execution_count": 6,
   "metadata": {},
   "outputs": [],
   "source": [
    "# lego_mixer.set_color_offset(float)"
   ]
  },
  {
   "cell_type": "markdown",
   "metadata": {},
   "source": [
    "You should now have working access to the robot. A .log file with a name identical to the ID of the instance should have been created. It will by default be located in the data subfolder of the course folder. Alternatively it will be in the folder you were in when you launced jupyter notebook.\n",
    "\n",
    "Now you should try to mix some colors using the `run_cuvette` function. The process is similar to exercise 1, so you should use the same visualization methods. Keep track of which cuvette will be filled if no cuvette number is specified in `run_cuvette` by using the `get_next_cuvette` method. You should naturally make sure that the cuvette you are about to mix to is empty. If you do not specify any cuvette and do not use `set_first_empty_cuvette`, cuvettes will be filled in the order, 1, 2, 3, 4, 6, 7, 8, 9, 10. Note that 5 is missing. It is reserved for the target color. If you try to mix in cuvette 5, you will mix in cuvette 6 instead.\n",
    "\n",
    "Why do you think we use cuvette 5 for our target color and not cuvette 1 or 10?\n",
    "\n",
    "To avoid accidentally mixing in an already filled cuvette, it is good practice to make sure there are never a filled cuvette to the right, i.e. with a larger index, than the one you just mixed in. Again, cuvette 5 is an exception to this.\n",
    "\n",
    "It will take a while from the time the command is executed to the robot actually starts moving as the robot needs to receive instructions and load drivers.\n",
    "\n",
    "Enough talk. Show me what you got!"
   ]
  },
  {
   "cell_type": "code",
   "execution_count": null,
   "metadata": {},
   "outputs": [],
   "source": [
    "lego_mixer.get_next_cuvette()"
   ]
  },
  {
   "cell_type": "code",
   "execution_count": null,
   "metadata": {},
   "outputs": [],
   "source": [
    "import matplotlib.pyplot as plt\n",
    "import numpy as np"
   ]
  },
  {
   "cell_type": "code",
   "execution_count": null,
   "metadata": {},
   "outputs": [],
   "source": [
    "input_volumes=[1.0, 0.0, 0.0, 0.0]\n",
    "output_color = lego_mixer.run_cuvette(input_volumes)\n",
    "print(output_color)\n",
    "plt.axis('off')\n",
    "plt.imshow(np.array([[output_color]], dtype=np.uint8))"
   ]
  },
  {
   "cell_type": "markdown",
   "metadata": {},
   "source": [
    "Do some different mixing of colors now by changing the rations in `input_volumes`. Maybe try to skip a cuvette using the `set_first_empty_cuvette` method or directly specifying the cuvette in `run_cuvette`. If you do the latter, make sure you use `get_next_cuvette` and `set_first_empty_cuvette` afterwards to get the instance back on track. Refill colors when they run low."
   ]
  },
  {
   "cell_type": "code",
   "execution_count": null,
   "metadata": {},
   "outputs": [],
   "source": [
    "# For you to play with"
   ]
  },
  {
   "cell_type": "code",
   "execution_count": null,
   "metadata": {},
   "outputs": [],
   "source": [
    "# For you to play with"
   ]
  },
  {
   "cell_type": "code",
   "execution_count": null,
   "metadata": {},
   "outputs": [],
   "source": [
    "# For you to play with. Add more as needed using the \"plus\" button below \"File\"."
   ]
  },
  {
   "cell_type": "markdown",
   "metadata": {},
   "source": [
    "Try mixing the same color multiple times to get an idea about the noise in the system."
   ]
  },
  {
   "cell_type": "markdown",
   "metadata": {},
   "source": [
    "# Exercise 2.2: Difference to target\n",
    "\n",
    "Just like you did with the `SilicoColorMixer`, you will now try to quantify the difference between a color you have mixed and a target color, that you get from the teacher. The target color should be located in cuvette 5. Use the same vizualization methods as in the *in silico* exercise. Reuse or improve the \"score\" function you made."
   ]
  },
  {
   "cell_type": "code",
   "execution_count": null,
   "metadata": {},
   "outputs": [],
   "source": [
    "# For you to play with"
   ]
  },
  {
   "cell_type": "code",
   "execution_count": null,
   "metadata": {},
   "outputs": [],
   "source": [
    "# For you to play with"
   ]
  },
  {
   "cell_type": "code",
   "execution_count": null,
   "metadata": {},
   "outputs": [],
   "source": [
    "# For you to play with"
   ]
  },
  {
   "cell_type": "code",
   "execution_count": null,
   "metadata": {},
   "outputs": [],
   "source": [
    "# For you to play with"
   ]
  },
  {
   "cell_type": "code",
   "execution_count": null,
   "metadata": {},
   "outputs": [],
   "source": [
    "# For you to play with. Add more as needed"
   ]
  },
  {
   "cell_type": "markdown",
   "metadata": {},
   "source": [
    "# Exercise 2.3: Optimization"
   ]
  },
  {
   "cell_type": "markdown",
   "metadata": {},
   "source": [
    "Now you should try to run an optimization to determine how you can best mix the target color.\n",
    "\n",
    "If you remember back from the *in silico*, you often have to do a large number of function calls to get the optimization going. Do not go through all the steps you did in exercise 1 but jump directly to the optimizer and parameters you think worked and will work the best. See if you can produce some nice optimization figures. \n",
    "\n",
    "Make sure `eps` is large compared to the initial guess values. Something like `0.2` should do for initial values of `x0 = [0.05, 0.05, 0.05, 0.05]`. If `eps` is too small compared to the initial values, the color sensor will have to tell shades of grey apart during the first iteration. The color sensor noise will then decide what the optimizer does next... And please keep in mind, that doing the optimization is bound to be somewhat crude. Despite our best efforts, a very simple LEGO robot is not really meant for delicate science.\n",
    "\n",
    "Should the optimizer encounter an error for some reason, rather than starting over from `x0`, start from the last set of inputs the optimizer used.\n",
    "\n",
    "Note: in the *in silico* exercise you came across the line \"# When LEGO set the next cuvette to 1 here\".\n",
    "You should remember to add in .set_first_empty_cuvette(1). Otherwise you will see failures when you try to restart the optimization."
   ]
  },
  {
   "cell_type": "code",
   "execution_count": null,
   "metadata": {},
   "outputs": [],
   "source": [
    "import numpy as np\n",
    "from IPython import display\n",
    "from plot_pie_charts import make_piechart_plot\n",
    "\n",
    "try:\n",
    "    from scipy.optimize import minimize\n",
    "except:\n",
    "    !pip3 install scipy --user --upgrade\n",
    "    from scipy.optimize import minimize"
   ]
  },
  {
   "cell_type": "code",
   "execution_count": null,
   "metadata": {},
   "outputs": [],
   "source": [
    "# For you to play with. Add cells as needed."
   ]
  },
  {
   "cell_type": "markdown",
   "metadata": {},
   "source": [
    "You might want to use some of your old data at some point. Even if you no longer have it available in a list in active memory, you can use your old data by loading it from file. You can load in the data you have written to your local data folder (or simply copy/paste it into the notebook). This, however, only contains the data YOU have generated and not that generated by the other group members. You can share the data between you anyway you see fit.\n",
    "\n",
    "The robot also stores ALL data generated on it. You can ssh directly into the robot from a new gbar session and find your data on the robot. While in there, make sure not to change anything, as we will pull the data from the robot and use it later in the course. You access the robot with `robot@IP`, where `IP` is the ip address, that can be seen on the robot screen.\n",
    "\n",
    "We will not tell you in detail how to get your data, read it into python, and modify it such that you can use it with plotting tools. We trust, that by now and with the wait time you will experience during this exercise, you can figure out a way that works for you. In everything Python related, [Stack Overflow](https://stackoverflow.com/) is your friend."
   ]
  }
 ],
 "metadata": {
  "kernelspec": {
   "display_name": "Python 3",
   "language": "python",
   "name": "python3"
  },
  "language_info": {
   "codemirror_mode": {
    "name": "ipython",
    "version": 3
   },
   "file_extension": ".py",
   "mimetype": "text/x-python",
   "name": "python",
   "nbconvert_exporter": "python",
   "pygments_lexer": "ipython3",
   "version": "3.6.13"
  }
 },
 "nbformat": 4,
 "nbformat_minor": 2
}
